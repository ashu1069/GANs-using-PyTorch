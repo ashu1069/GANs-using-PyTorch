{
  "nbformat": 4,
  "nbformat_minor": 0,
  "metadata": {
    "colab": {
      "name": "GANs.ipynb",
      "provenance": [],
      "collapsed_sections": []
    },
    "kernelspec": {
      "name": "python3",
      "display_name": "Python 3"
    },
    "language_info": {
      "name": "python"
    },
    "accelerator": "GPU"
  },
  "cells": [
    {
      "cell_type": "code",
      "execution_count": null,
      "metadata": {
        "colab": {
          "base_uri": "https://localhost:8080/"
        },
        "id": "G57KVjKnCwZp",
        "outputId": "4a10f3f8-7351-44e8-bf03-fd57707b45af"
      },
      "outputs": [
        {
          "output_type": "stream",
          "name": "stdout",
          "text": [
            "Looking in indexes: https://pypi.org/simple, https://us-python.pkg.dev/colab-wheels/public/simple/\n",
            "Requirement already satisfied: torchvision in /usr/local/lib/python3.7/dist-packages (0.12.0+cu113)\n",
            "Requirement already satisfied: tensorboardx in /usr/local/lib/python3.7/dist-packages (2.5)\n",
            "Requirement already satisfied: numpy in /usr/local/lib/python3.7/dist-packages (1.21.6)\n",
            "Requirement already satisfied: matplotlib in /usr/local/lib/python3.7/dist-packages (3.2.2)\n",
            "Requirement already satisfied: jupyter in /usr/local/lib/python3.7/dist-packages (1.0.0)\n",
            "Requirement already satisfied: pillow!=8.3.*,>=5.3.0 in /usr/local/lib/python3.7/dist-packages (from torchvision) (7.1.2)\n",
            "Requirement already satisfied: requests in /usr/local/lib/python3.7/dist-packages (from torchvision) (2.23.0)\n",
            "Requirement already satisfied: torch==1.11.0 in /usr/local/lib/python3.7/dist-packages (from torchvision) (1.11.0+cu113)\n",
            "Requirement already satisfied: typing-extensions in /usr/local/lib/python3.7/dist-packages (from torchvision) (4.2.0)\n",
            "Requirement already satisfied: six in /usr/local/lib/python3.7/dist-packages (from tensorboardx) (1.15.0)\n",
            "Requirement already satisfied: protobuf>=3.8.0 in /usr/local/lib/python3.7/dist-packages (from tensorboardx) (3.17.3)\n",
            "Requirement already satisfied: kiwisolver>=1.0.1 in /usr/local/lib/python3.7/dist-packages (from matplotlib) (1.4.2)\n",
            "Requirement already satisfied: cycler>=0.10 in /usr/local/lib/python3.7/dist-packages (from matplotlib) (0.11.0)\n",
            "Requirement already satisfied: pyparsing!=2.0.4,!=2.1.2,!=2.1.6,>=2.0.1 in /usr/local/lib/python3.7/dist-packages (from matplotlib) (3.0.9)\n",
            "Requirement already satisfied: python-dateutil>=2.1 in /usr/local/lib/python3.7/dist-packages (from matplotlib) (2.8.2)\n",
            "Requirement already satisfied: jupyter-console in /usr/local/lib/python3.7/dist-packages (from jupyter) (5.2.0)\n",
            "Requirement already satisfied: nbconvert in /usr/local/lib/python3.7/dist-packages (from jupyter) (5.6.1)\n",
            "Requirement already satisfied: qtconsole in /usr/local/lib/python3.7/dist-packages (from jupyter) (5.3.0)\n",
            "Requirement already satisfied: ipywidgets in /usr/local/lib/python3.7/dist-packages (from jupyter) (7.7.0)\n",
            "Requirement already satisfied: notebook in /usr/local/lib/python3.7/dist-packages (from jupyter) (5.3.1)\n",
            "Requirement already satisfied: ipykernel in /usr/local/lib/python3.7/dist-packages (from jupyter) (4.10.1)\n",
            "Requirement already satisfied: tornado>=4.0 in /usr/local/lib/python3.7/dist-packages (from ipykernel->jupyter) (5.1.1)\n",
            "Requirement already satisfied: traitlets>=4.1.0 in /usr/local/lib/python3.7/dist-packages (from ipykernel->jupyter) (5.1.1)\n",
            "Requirement already satisfied: ipython>=4.0.0 in /usr/local/lib/python3.7/dist-packages (from ipykernel->jupyter) (5.5.0)\n",
            "Requirement already satisfied: jupyter-client in /usr/local/lib/python3.7/dist-packages (from ipykernel->jupyter) (5.3.5)\n",
            "Requirement already satisfied: decorator in /usr/local/lib/python3.7/dist-packages (from ipython>=4.0.0->ipykernel->jupyter) (4.4.2)\n",
            "Requirement already satisfied: setuptools>=18.5 in /usr/local/lib/python3.7/dist-packages (from ipython>=4.0.0->ipykernel->jupyter) (57.4.0)\n",
            "Requirement already satisfied: pygments in /usr/local/lib/python3.7/dist-packages (from ipython>=4.0.0->ipykernel->jupyter) (2.6.1)\n",
            "Requirement already satisfied: pexpect in /usr/local/lib/python3.7/dist-packages (from ipython>=4.0.0->ipykernel->jupyter) (4.8.0)\n",
            "Requirement already satisfied: pickleshare in /usr/local/lib/python3.7/dist-packages (from ipython>=4.0.0->ipykernel->jupyter) (0.7.5)\n",
            "Requirement already satisfied: prompt-toolkit<2.0.0,>=1.0.4 in /usr/local/lib/python3.7/dist-packages (from ipython>=4.0.0->ipykernel->jupyter) (1.0.18)\n",
            "Requirement already satisfied: simplegeneric>0.8 in /usr/local/lib/python3.7/dist-packages (from ipython>=4.0.0->ipykernel->jupyter) (0.8.1)\n",
            "Requirement already satisfied: wcwidth in /usr/local/lib/python3.7/dist-packages (from prompt-toolkit<2.0.0,>=1.0.4->ipython>=4.0.0->ipykernel->jupyter) (0.2.5)\n",
            "Requirement already satisfied: jupyterlab-widgets>=1.0.0 in /usr/local/lib/python3.7/dist-packages (from ipywidgets->jupyter) (1.1.0)\n",
            "Requirement already satisfied: widgetsnbextension~=3.6.0 in /usr/local/lib/python3.7/dist-packages (from ipywidgets->jupyter) (3.6.0)\n",
            "Requirement already satisfied: nbformat>=4.2.0 in /usr/local/lib/python3.7/dist-packages (from ipywidgets->jupyter) (5.4.0)\n",
            "Requirement already satisfied: ipython-genutils~=0.2.0 in /usr/local/lib/python3.7/dist-packages (from ipywidgets->jupyter) (0.2.0)\n",
            "Requirement already satisfied: jsonschema>=2.6 in /usr/local/lib/python3.7/dist-packages (from nbformat>=4.2.0->ipywidgets->jupyter) (4.3.3)\n",
            "Requirement already satisfied: fastjsonschema in /usr/local/lib/python3.7/dist-packages (from nbformat>=4.2.0->ipywidgets->jupyter) (2.15.3)\n",
            "Requirement already satisfied: jupyter-core in /usr/local/lib/python3.7/dist-packages (from nbformat>=4.2.0->ipywidgets->jupyter) (4.10.0)\n",
            "Requirement already satisfied: pyrsistent!=0.17.0,!=0.17.1,!=0.17.2,>=0.14.0 in /usr/local/lib/python3.7/dist-packages (from jsonschema>=2.6->nbformat>=4.2.0->ipywidgets->jupyter) (0.18.1)\n",
            "Requirement already satisfied: attrs>=17.4.0 in /usr/local/lib/python3.7/dist-packages (from jsonschema>=2.6->nbformat>=4.2.0->ipywidgets->jupyter) (21.4.0)\n",
            "Requirement already satisfied: importlib-metadata in /usr/local/lib/python3.7/dist-packages (from jsonschema>=2.6->nbformat>=4.2.0->ipywidgets->jupyter) (4.11.3)\n",
            "Requirement already satisfied: importlib-resources>=1.4.0 in /usr/local/lib/python3.7/dist-packages (from jsonschema>=2.6->nbformat>=4.2.0->ipywidgets->jupyter) (5.7.1)\n",
            "Requirement already satisfied: zipp>=3.1.0 in /usr/local/lib/python3.7/dist-packages (from importlib-resources>=1.4.0->jsonschema>=2.6->nbformat>=4.2.0->ipywidgets->jupyter) (3.8.0)\n",
            "Requirement already satisfied: terminado>=0.8.1 in /usr/local/lib/python3.7/dist-packages (from notebook->jupyter) (0.13.3)\n",
            "Requirement already satisfied: jinja2 in /usr/local/lib/python3.7/dist-packages (from notebook->jupyter) (2.11.3)\n",
            "Requirement already satisfied: Send2Trash in /usr/local/lib/python3.7/dist-packages (from notebook->jupyter) (1.8.0)\n",
            "Requirement already satisfied: pyzmq>=13 in /usr/local/lib/python3.7/dist-packages (from jupyter-client->ipykernel->jupyter) (23.0.0)\n",
            "Requirement already satisfied: ptyprocess in /usr/local/lib/python3.7/dist-packages (from terminado>=0.8.1->notebook->jupyter) (0.7.0)\n",
            "Requirement already satisfied: MarkupSafe>=0.23 in /usr/local/lib/python3.7/dist-packages (from jinja2->notebook->jupyter) (2.0.1)\n",
            "Requirement already satisfied: mistune<2,>=0.8.1 in /usr/local/lib/python3.7/dist-packages (from nbconvert->jupyter) (0.8.4)\n",
            "Requirement already satisfied: pandocfilters>=1.4.1 in /usr/local/lib/python3.7/dist-packages (from nbconvert->jupyter) (1.5.0)\n",
            "Requirement already satisfied: entrypoints>=0.2.2 in /usr/local/lib/python3.7/dist-packages (from nbconvert->jupyter) (0.4)\n",
            "Requirement already satisfied: defusedxml in /usr/local/lib/python3.7/dist-packages (from nbconvert->jupyter) (0.7.1)\n",
            "Requirement already satisfied: bleach in /usr/local/lib/python3.7/dist-packages (from nbconvert->jupyter) (5.0.0)\n",
            "Requirement already satisfied: testpath in /usr/local/lib/python3.7/dist-packages (from nbconvert->jupyter) (0.6.0)\n",
            "Requirement already satisfied: webencodings in /usr/local/lib/python3.7/dist-packages (from bleach->nbconvert->jupyter) (0.5.1)\n",
            "Requirement already satisfied: qtpy>=2.0.1 in /usr/local/lib/python3.7/dist-packages (from qtconsole->jupyter) (2.1.0)\n",
            "Requirement already satisfied: packaging in /usr/local/lib/python3.7/dist-packages (from qtpy>=2.0.1->qtconsole->jupyter) (21.3)\n",
            "Requirement already satisfied: certifi>=2017.4.17 in /usr/local/lib/python3.7/dist-packages (from requests->torchvision) (2022.5.18.1)\n",
            "Requirement already satisfied: idna<3,>=2.5 in /usr/local/lib/python3.7/dist-packages (from requests->torchvision) (2.10)\n",
            "Requirement already satisfied: chardet<4,>=3.0.2 in /usr/local/lib/python3.7/dist-packages (from requests->torchvision) (3.0.4)\n",
            "Requirement already satisfied: urllib3!=1.25.0,!=1.25.1,<1.26,>=1.21.1 in /usr/local/lib/python3.7/dist-packages (from requests->torchvision) (1.24.3)\n"
          ]
        }
      ],
      "source": [
        "!pip install torchvision tensorboardx numpy matplotlib jupyter"
      ]
    },
    {
      "cell_type": "code",
      "source": [
        "import torch\n",
        "from torch import nn, optim\n",
        "from torch.autograd.variable import Variable\n",
        "from torchvision import transforms, datasets"
      ],
      "metadata": {
        "id": "flzCrk7eESNa"
      },
      "execution_count": null,
      "outputs": []
    },
    {
      "cell_type": "code",
      "source": [
        "from utils import Logger"
      ],
      "metadata": {
        "id": "fA1B8o4TEoxb"
      },
      "execution_count": null,
      "outputs": []
    },
    {
      "cell_type": "code",
      "source": [
        "def mnist_data():\n",
        "  compose = transforms.Compose(\n",
        "      [transforms.ToTensor(),\n",
        "       transforms.Normalize((0.5,),(0.5,))\n",
        "       ])\n",
        "  out_dir = './dataset'\n",
        "  return datasets.MNIST(root=out_dir, train=True, transform=compose, download=True)\n",
        "\n",
        "  #load data\n",
        "data = mnist_data()\n",
        "\n",
        "#Create loader with data to iterate over it\n",
        "data_loader = torch.utils.data.DataLoader(data, batch_size=100, shuffle=True)\n",
        "num_batches = len(data_loader)"
      ],
      "metadata": {
        "id": "ecOZXC_AF5b1"
      },
      "execution_count": null,
      "outputs": []
    },
    {
      "cell_type": "code",
      "source": [
        "#This network will take a flattened image as input and return the probability of it belonging to the real dataset\n",
        "class DiscriminatorNet(torch.nn.Module):\n",
        "  def __init__(self):\n",
        "    super(DiscriminatorNet, self).__init__()\n",
        "    n_features = 784\n",
        "    n_out = 1\n",
        "\n",
        "    self.hidden0 = nn.Sequential(\n",
        "        nn.Linear(n_features, 1024),\n",
        "        nn.LeakyReLU(0.2),\n",
        "        nn.Dropout(0.3)\n",
        "    )\n",
        "    self.hidden1 = nn.Sequential(\n",
        "        nn.Linear(1024,512),\n",
        "        nn.LeakyReLU(0.2),\n",
        "        nn.Dropout(0.3)\n",
        "    )\n",
        "    self.hidden2 = nn.Sequential(\n",
        "        nn.Linear(512,256),\n",
        "        nn.LeakyReLU(0.2),\n",
        "        nn.Dropout(0.2)\n",
        "    )\n",
        "    self.out = nn.Sequential(\n",
        "        torch.nn.Linear(256,n_out),\n",
        "        torch.nn.Sigmoid()\n",
        "    )\n",
        "  \n",
        "  def forward(self, x):\n",
        "    x = self.hidden0(x)\n",
        "    x = self.hidden1(x)\n",
        "    x = self.hidden2(x)\n",
        "    x = self.out(x)\n",
        "    return x\n",
        "\n",
        "discriminator = DiscriminatorNet()\n"
      ],
      "metadata": {
        "id": "ZYPFmsIxGzc2"
      },
      "execution_count": null,
      "outputs": []
    },
    {
      "cell_type": "code",
      "source": [
        "def images_to_vectors(images):\n",
        "  return images.view(images.size(0), 784)\n",
        "\n",
        "def vectors_to_images(vectors):\n",
        "  return vectors.view(vectors.size(0), 1, 28, 28)"
      ],
      "metadata": {
        "id": "lzWwzFevJzHG"
      },
      "execution_count": null,
      "outputs": []
    },
    {
      "cell_type": "code",
      "source": [
        "#This network will take a latent variable vector as input and returns a 784 valued vecctor, which correspons to 28*28 flattened image\n",
        "class GeneratorNet(torch.nn.Module):\n",
        "  def __init__(self):\n",
        "    super(GeneratorNet, self).__init__()\n",
        "    n_features = 100\n",
        "    n_out = 784\n",
        "\n",
        "    self.hidden0 = nn.Sequential(\n",
        "        nn.Linear(n_features, 256),\n",
        "        nn.LeakyReLU(0.2)\n",
        "    )\n",
        "    self.hidden1 = nn.Sequential(\n",
        "        nn.Linear(256,512),\n",
        "        nn.LeakyReLU(0.2)\n",
        "    )\n",
        "    self.hidden2 = nn.Sequential(\n",
        "        nn.Linear(512,1024),\n",
        "        nn.LeakyReLU(0.2)\n",
        "    )\n",
        "    self.out = nn.Sequential(\n",
        "        nn.Linear(1024,n_out),\n",
        "        nn.Tanh()\n",
        "    )\n",
        "\n",
        "  def forward(self, x):\n",
        "    x = self.hidden0(x)\n",
        "    x = self.hidden1(x)\n",
        "    x = self.hidden2(x)\n",
        "    x = self.out(x)\n",
        "    return x\n",
        "\n",
        "generator = GeneratorNet()"
      ],
      "metadata": {
        "id": "87qaL0UaKGA_"
      },
      "execution_count": null,
      "outputs": []
    },
    {
      "cell_type": "code",
      "source": [
        "#noise vector\n",
        "def noise(size):\n",
        "  n = Variable(torch.randn(size, 100))\n",
        "  return n"
      ],
      "metadata": {
        "id": "4h1E8aT6Lzcy"
      },
      "execution_count": null,
      "outputs": []
    },
    {
      "cell_type": "code",
      "source": [
        "#Optimizers\n",
        "d_optimizer = optim.Adam(discriminator.parameters(), lr = 0.0002)\n",
        "g_optimizer = optim.Adam(generator.parameters(), lr = 0.0002)"
      ],
      "metadata": {
        "id": "g55SxiRPM7gt"
      },
      "execution_count": null,
      "outputs": []
    },
    {
      "cell_type": "code",
      "source": [
        "#Loss function = Binary Cross Entropy loss\n",
        "loss = nn.BCELoss()"
      ],
      "metadata": {
        "id": "anB4LKERNOFZ"
      },
      "execution_count": null,
      "outputs": []
    },
    {
      "cell_type": "code",
      "source": [
        "#real image target = 1 and fake image target = 0 for discriminator\n",
        "def ones_target(size):\n",
        "  data = Variable(torch.ones(size,1))\n",
        "  return data\n",
        "def zeros_target(size):\n",
        "  data = Variable(torch.zeros(size,1))\n",
        "  return data  "
      ],
      "metadata": {
        "id": "PQznsEEVOmc3"
      },
      "execution_count": null,
      "outputs": []
    },
    {
      "cell_type": "code",
      "source": [
        "def train_discriminator(optimizer, real_data, fake_data):\n",
        "  N=real_data.size(0)\n",
        "  optimizer.zero_grad()\n",
        "\n",
        "  #train on real data\n",
        "  prediction_real = discriminator(real_data)\n",
        "  error_real = loss(prediction_real, ones_target(N))\n",
        "  error_real.backward() #calculating the gradients\n",
        "\n",
        "  #train on fake data\n",
        "  prediction_fake = discriminator(fake_data)\n",
        "  error_fake = loss(prediction_fake, zeros_target(N))\n",
        "  error_fake.backward()\n",
        "\n",
        "  #update weights with gradients\n",
        "  optimizer.step()\n",
        "\n",
        "  #return error and predictions for real and fake inputs\n",
        "  return error_real + error_fake, prediction_real, prediction_fake"
      ],
      "metadata": {
        "id": "kY0wyirRO7YJ"
      },
      "execution_count": null,
      "outputs": []
    },
    {
      "cell_type": "code",
      "source": [
        "def train_generator(optimizer, fake_data):\n",
        "  N = fake_data.size(0)\n",
        "\n",
        "  #reset gradients\n",
        "  optimizer.zero_grad()\n",
        "\n",
        "  #sample noise and generate fake data\n",
        "  prediction = discriminator(fake_data)\n",
        "\n",
        "  #calculate error and backpropagate\n",
        "  error = loss(prediction, ones_target(N))\n",
        "  error.backward()\n",
        "\n",
        "  #update weights with gradients\n",
        "  optimizer.step()\n",
        "\n",
        "  #return error\n",
        "  return error"
      ],
      "metadata": {
        "id": "sjZNdPN3P1p_"
      },
      "execution_count": null,
      "outputs": []
    },
    {
      "cell_type": "markdown",
      "source": [
        "Testing"
      ],
      "metadata": {
        "id": "sBejHs7pQWBk"
      }
    },
    {
      "cell_type": "code",
      "source": [
        "num_test_samples = 16\n",
        "test_noise = noise(num_test_samples)"
      ],
      "metadata": {
        "id": "OPoib6l7QXNB"
      },
      "execution_count": null,
      "outputs": []
    },
    {
      "cell_type": "markdown",
      "source": [
        "Training"
      ],
      "metadata": {
        "id": "_iYlxbT0Qc8k"
      }
    },
    {
      "cell_type": "code",
      "source": [
        "logger = Logger(model_name='VGAN', data_name='MNIST')\n",
        "\n",
        "num_epochs = 200\n",
        "\n",
        "for epoch in range(num_epochs):\n",
        "  for n_batch, (real_batch,_) in enumerate(data_loader):\n",
        "    N = real_batch.size(0)\n",
        "\n",
        "    #train discriminator\n",
        "    real_data = Variable(images_to_vectors(real_batch))\n",
        "\n",
        "    #generate fake data and detach so that gradients are not calculated for generator\n",
        "    fake_data = generator(noise(N)).detach()\n",
        "\n",
        "    d_error, d_pred_real, d_pred_fake = train_discriminator(d_optimizer, real_data, fake_data)\n",
        "\n",
        "\n",
        "    #train generator\n",
        "    #generate fake data\n",
        "    fake_data = generator(noise(N))\n",
        "\n",
        "    g_error = train_generator(g_optimizer, fake_data)\n",
        "\n",
        "    logger.log(d_error, g_error, epoch, n_batch, num_batches)\n",
        "\n",
        "    #display progress\n",
        "    if (n_batch)% 100 == 0:\n",
        "      test_images = vectors_to_images(generator(test_noise))\n",
        "      test_images = test_images.data\n",
        "\n",
        "      logger.log_images(\n",
        "          test_images, num_test_samples,\n",
        "          epoch, n_batch, num_batches\n",
        "      )\n",
        "\n",
        "      #display status Logs\n",
        "      logger.display_status(\n",
        "          epoch, num_epochs, n_batch, num_batches,\n",
        "          d_error, g_error, d_pred_real, d_pred_fake\n",
        "      )"
      ],
      "metadata": {
        "colab": {
          "base_uri": "https://localhost:8080/",
          "height": 1000
        },
        "id": "ZEfj2GXuQdzW",
        "outputId": "1b842983-9f0c-4c40-b23b-915a0a33e19f"
      },
      "execution_count": null,
      "outputs": []
    }
  ]
}